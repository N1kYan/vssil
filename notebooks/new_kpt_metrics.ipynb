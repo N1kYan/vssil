{
 "cells": [
  {
   "cell_type": "code",
   "execution_count": 5,
   "metadata": {},
   "outputs": [],
   "source": [
    "import sys\n",
    "sys.path.insert(1, '/home/yannik/vssil')\n",
    "\n",
    "import torch\n",
    "\n",
    "from src.utils.kpt_utils import get_image_patches, kpts_2_img_coordinates\n",
    "from src.losses.kpt_tracking_metric import kpt_tracking_metric\n",
    "from contrastive_loss_test_data.test_keypoints import get_perfect_keypoints, get_bad_keypoints, get_random_keypoints\n",
    "from contrastive_loss_test_data.test_data import load_sample_images\n",
    "\n",
    "sample_size = 4\n",
    "batch_size = 16"
   ]
  },
  {
   "cell_type": "code",
   "execution_count": 6,
   "metadata": {},
   "outputs": [],
   "source": [
    "# Load example image frames\n",
    "img_tensor = load_sample_images(sample_size=sample_size,\n",
    "                                path=\"/home/yannik/vssil/contrastive_loss_test_data/990000.mp4\").unsqueeze(0)\n",
    "img_tensor = img_tensor.repeat((batch_size, 1, 1, 1, 1))\n",
    "N, T, C, H, W = img_tensor.shape"
   ]
  },
  {
   "cell_type": "code",
   "execution_count": 7,
   "metadata": {},
   "outputs": [],
   "source": [
    "# Load example key-points\n",
    "perfect_kpt_coordinates = get_perfect_keypoints(T=sample_size).unsqueeze(0)\n",
    "perfect_kpt_coordinates = perfect_kpt_coordinates.repeat((batch_size, 1, 1, 1))\n",
    "\n",
    "bad_kpt_coordinates = get_bad_keypoints(T=sample_size).unsqueeze(0)\n",
    "bad_kpt_coordinates = bad_kpt_coordinates.repeat((batch_size, 1, 1, 1))\n",
    "\n",
    "random_kpt_coordinates = get_random_keypoints(T=sample_size).unsqueeze(0)\n",
    "random_kpt_coordinates = random_kpt_coordinates.repeat((batch_size, 1, 1, 1))"
   ]
  },
  {
   "cell_type": "code",
   "execution_count": 8,
   "metadata": {},
   "outputs": [
    {
     "name": "stdout",
     "output_type": "stream",
     "text": [
      "tensor(357.6667)\n",
      "tensor(451.)\n",
      "tensor(698.0952)\n"
     ]
    }
   ],
   "source": [
    "M_perfect = kpt_tracking_metric(perfect_kpt_coordinates, img_tensor, (32, 32), 30)\n",
    "M_bad = kpt_tracking_metric(bad_kpt_coordinates, img_tensor, (32, 32), 30)\n",
    "M_random = kpt_tracking_metric(random_kpt_coordinates, img_tensor, (32, 32), 30)\n",
    "print(M_perfect)\n",
    "print(M_bad)\n",
    "print(M_random)"
   ]
  },
  {
   "cell_type": "code",
   "execution_count": null,
   "metadata": {},
   "outputs": [],
   "source": []
  }
 ],
 "metadata": {
  "kernelspec": {
   "display_name": "vssil",
   "language": "python",
   "name": "vssil"
  },
  "language_info": {
   "codemirror_mode": {
    "name": "ipython",
    "version": 3
   },
   "file_extension": ".py",
   "mimetype": "text/x-python",
   "name": "python",
   "nbconvert_exporter": "python",
   "pygments_lexer": "ipython3",
   "version": "3.8.8"
  }
 },
 "nbformat": 4,
 "nbformat_minor": 2
}
