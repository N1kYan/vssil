{
 "cells": [
  {
   "cell_type": "code",
   "execution_count": 1,
   "metadata": {},
   "outputs": [],
   "source": [
    "import sys\n",
    "sys.path.insert(1, '/home/yannik/vssil')\n",
    "\n",
    "import torch\n",
    "\n",
    "from src.utils.kpt_utils import get_image_patches, kpts_2_img_coordinates\n",
    "from src.losses.kpt_tracking_metric import kpt_tracking_metric\n",
    "from src.losses.kpt_visual_metric import kpt_visual_metric\n",
    "from contrastive_loss_test_data.test_keypoints import get_perfect_keypoints, get_bad_keypoints, get_random_keypoints\n",
    "from contrastive_loss_test_data.test_data import load_sample_images\n",
    "\n",
    "sample_size = 4\n",
    "batch_size = 16\n",
    "patch_size = (16, 16)\n",
    "n_bins = 100"
   ]
  },
  {
   "cell_type": "code",
   "execution_count": 2,
   "metadata": {},
   "outputs": [
    {
     "name": "stdout",
     "output_type": "stream",
     "text": [
      "tensor(0.2376)\n"
     ]
    }
   ],
   "source": [
    "torch.manual_seed(123)\n",
    "\n",
    "# Load example image frames\n",
    "img_tensor = load_sample_images(sample_size=sample_size,\n",
    "                                path=\"/home/yannik/vssil/contrastive_loss_test_data/990000.mp4\").unsqueeze(0)\n",
    "print(img_tensor.mean())\n",
    "img_tensor = img_tensor.repeat((batch_size, 1, 1, 1, 1))\n",
    "N, T, C, H, W = img_tensor.shape"
   ]
  },
  {
   "cell_type": "code",
   "execution_count": 3,
   "metadata": {},
   "outputs": [],
   "source": [
    "# Load example key-points\n",
    "perfect_kpt_coordinates = get_perfect_keypoints(T=sample_size).unsqueeze(0)\n",
    "perfect_kpt_coordinates = perfect_kpt_coordinates.repeat((batch_size, 1, 1, 1))\n",
    "\n",
    "bad_kpt_coordinates = get_bad_keypoints(T=sample_size).unsqueeze(0)\n",
    "bad_kpt_coordinates = bad_kpt_coordinates.repeat((batch_size, 1, 1, 1))\n",
    "\n",
    "random_kpt_coordinates = get_random_keypoints(T=sample_size).unsqueeze(0)\n",
    "random_kpt_coordinates = random_kpt_coordinates.repeat((batch_size, 1, 1, 1))"
   ]
  },
  {
   "cell_type": "code",
   "execution_count": 4,
   "metadata": {},
   "outputs": [
    {
     "name": "stdout",
     "output_type": "stream",
     "text": [
      "tensor(49.9524)\n",
      "tensor(57.)\n",
      "tensor(211.1429)\n"
     ]
    }
   ],
   "source": [
    "M_track_perfect = kpt_tracking_metric(perfect_kpt_coordinates, img_tensor, patch_size, n_bins)\n",
    "M_track_bad = kpt_tracking_metric(bad_kpt_coordinates, img_tensor, patch_size, n_bins)\n",
    "M_track_random = kpt_tracking_metric(random_kpt_coordinates, img_tensor, patch_size, n_bins)\n",
    "print(M_track_perfect)\n",
    "print(M_track_bad)\n",
    "print(M_track_random)"
   ]
  },
  {
   "cell_type": "code",
   "execution_count": 5,
   "metadata": {},
   "outputs": [
    {
     "name": "stdout",
     "output_type": "stream",
     "text": [
      "tensor(0.2859)\n",
      "tensor(0.0278)\n",
      "\n",
      "tensor(2.5600)\n",
      "tensor(2.5600)\n",
      "\n",
      "tensor(0.2751)\n",
      "tensor(0.0269)\n",
      "\n",
      "tensor(2.5600)\n",
      "tensor(2.5600)\n",
      "\n",
      "tensor(0.2259)\n",
      "tensor(0.0114)\n",
      "\n",
      "tensor(2.5600)\n",
      "tensor(2.5600)\n",
      "\n",
      "tensor(54.0714)\n",
      "tensor(51.3333)\n",
      "tensor(127.7262)\n",
      "\n",
      "tensor(54.0714)\n",
      "tensor(51.3333)\n",
      "tensor(127.7262)\n"
     ]
    }
   ],
   "source": [
    "M_vis_perfect_color, M_vis_perfect_grad = kpt_visual_metric(perfect_kpt_coordinates, img_tensor, patch_size, n_bins)\n",
    "M_vis_bad_color, M_vis_bad_grad = kpt_visual_metric(bad_kpt_coordinates, img_tensor, patch_size, n_bins)\n",
    "M_vis_random_color, M_vis_random_grad = kpt_visual_metric(random_kpt_coordinates, img_tensor, patch_size, n_bins)\n",
    "print(M_vis_perfect_color)\n",
    "print(M_vis_bad_color)\n",
    "print(M_vis_random_color)\n",
    "print()\n",
    "print(M_vis_perfect_grad)\n",
    "print(M_vis_bad_grad)\n",
    "print(M_vis_random_grad)"
   ]
  },
  {
   "cell_type": "code",
   "execution_count": 6,
   "metadata": {},
   "outputs": [
    {
     "name": "stdout",
     "output_type": "stream",
     "text": [
      "tensor(45.8810)\n",
      "tensor(55.6667)\n",
      "tensor(133.4167)\n"
     ]
    }
   ],
   "source": [
    "print(torch.relu(M_track_perfect - M_vis_perfect_color + 50.0))\n",
    "print(torch.relu(M_track_bad - M_vis_bad_color + 50.0))\n",
    "print(torch.relu(M_track_random - M_vis_random_color + 50.0))"
   ]
  },
  {
   "cell_type": "code",
   "execution_count": null,
   "metadata": {},
   "outputs": [],
   "source": []
  }
 ],
 "metadata": {
  "kernelspec": {
   "display_name": "vssil",
   "language": "python",
   "name": "vssil"
  },
  "language_info": {
   "codemirror_mode": {
    "name": "ipython",
    "version": 3
   },
   "file_extension": ".py",
   "mimetype": "text/x-python",
   "name": "python",
   "nbconvert_exporter": "python",
   "pygments_lexer": "ipython3",
   "version": "3.8.8"
  }
 },
 "nbformat": 4,
 "nbformat_minor": 2
}
