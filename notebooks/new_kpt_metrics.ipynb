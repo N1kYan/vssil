{
 "cells": [
  {
   "cell_type": "code",
   "execution_count": 16,
   "metadata": {},
   "outputs": [],
   "source": [
    "import sys\n",
    "sys.path.insert(1, '/home/yannik/vssil')\n",
    "\n",
    "import torch\n",
    "from torch.nn.functional import interpolate\n",
    "\n",
    "from src.utils.kpt_utils import get_image_patches, kpts_2_img_coordinates\n",
    "from src.losses.kpt_tracking_metric import kpt_tracking_metric\n",
    "from src.losses.kpt_visual_metric import kpt_visual_metric\n",
    "from src.losses.spatial_consistency_loss import spatial_consistency_loss\n",
    "from contrastive_loss_test_data.test_keypoints import get_perfect_keypoints, get_bad_keypoints, get_random_keypoints\n",
    "from contrastive_loss_test_data.test_data import load_sample_images \n",
    "\n",
    "\n",
    "sample_size = 4\n",
    "batch_size = 16\n",
    "patch_size = (3, 3)\n",
    "n_bins = 200\n",
    "p = float('inf')"
   ]
  },
  {
   "cell_type": "code",
   "execution_count": 17,
   "metadata": {},
   "outputs": [],
   "source": [
    "torch.manual_seed(123)\n",
    "\n",
    "# Load example image frames\n",
    "img_tensor = load_sample_images(sample_size=sample_size,\n",
    "                                path=\"/home/yannik/vssil/contrastive_loss_test_data/990000.mp4\").unsqueeze(0)\n",
    "img_tensor = img_tensor.repeat((batch_size, 1, 1, 1, 1))\n",
    "img_tensor = interpolate(img_tensor, size=(3, 64, 64))\n",
    "N, T, C, H, W = img_tensor.shape"
   ]
  },
  {
   "cell_type": "code",
   "execution_count": 18,
   "metadata": {},
   "outputs": [],
   "source": [
    "# Load example key-points\n",
    "perfect_kpt_coordinates = get_perfect_keypoints(T=sample_size).unsqueeze(0)\n",
    "perfect_kpt_coordinates = perfect_kpt_coordinates.repeat((batch_size, 1, 1, 1))\n",
    "\n",
    "bad_kpt_coordinates = get_bad_keypoints(T=sample_size).unsqueeze(0)\n",
    "bad_kpt_coordinates = bad_kpt_coordinates.repeat((batch_size, 1, 1, 1))\n",
    "\n",
    "random_kpt_coordinates = get_random_keypoints(T=sample_size).unsqueeze(0)\n",
    "random_kpt_coordinates = random_kpt_coordinates.repeat((batch_size, 1, 1, 1))"
   ]
  },
  {
   "cell_type": "code",
   "execution_count": 19,
   "metadata": {},
   "outputs": [
    {
     "name": "stdout",
     "output_type": "stream",
     "text": [
      "tensor(0.0726)\n",
      "tensor(0.0549)\n",
      "tensor(0.1646)\n"
     ]
    }
   ],
   "source": [
    "# Evaluating tracking metric\n",
    "# The lower the result, the less visual difference of image patches around key-points over time\n",
    "M_track_perfect = kpt_tracking_metric(perfect_kpt_coordinates, img_tensor, patch_size, n_bins, p)\n",
    "M_track_bad = kpt_tracking_metric(bad_kpt_coordinates, img_tensor, patch_size, n_bins, p)\n",
    "M_track_random = kpt_tracking_metric(random_kpt_coordinates, img_tensor, patch_size, n_bins, p)\n",
    "print(M_track_perfect)\n",
    "print(M_track_bad)\n",
    "print(M_track_random)"
   ]
  },
  {
   "cell_type": "code",
   "execution_count": 20,
   "metadata": {},
   "outputs": [
    {
     "name": "stdout",
     "output_type": "stream",
     "text": [
      "tensor(0.0099)\n",
      "tensor(0.0070)\n",
      "tensor(0.0268)\n"
     ]
    }
   ],
   "source": [
    "# Evaluating visual metric\n",
    "# The higher the result, the higher the visual differences of image patches across key-points\n",
    "M_vis_perfect = kpt_visual_metric(perfect_kpt_coordinates, img_tensor, patch_size, n_bins, p)\n",
    "M_vis_bad = kpt_visual_metric(bad_kpt_coordinates, img_tensor, patch_size, n_bins, p)\n",
    "M_vis_random = kpt_visual_metric(random_kpt_coordinates, img_tensor, patch_size, n_bins, p)\n",
    "print(M_vis_perfect)\n",
    "print(M_vis_bad)\n",
    "print(M_vis_random)"
   ]
  },
  {
   "cell_type": "code",
   "execution_count": null,
   "metadata": {},
   "outputs": [],
   "source": []
  }
 ],
 "metadata": {
  "kernelspec": {
   "display_name": "vssil",
   "language": "python",
   "name": "vssil"
  },
  "language_info": {
   "codemirror_mode": {
    "name": "ipython",
    "version": 3
   },
   "file_extension": ".py",
   "mimetype": "text/x-python",
   "name": "python",
   "nbconvert_exporter": "python",
   "pygments_lexer": "ipython3",
   "version": "3.8.8"
  }
 },
 "nbformat": 4,
 "nbformat_minor": 2
}
