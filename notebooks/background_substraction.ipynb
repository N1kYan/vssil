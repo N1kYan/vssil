{
 "cells": [
  {
   "cell_type": "code",
   "execution_count": null,
   "metadata": {},
   "outputs": [],
   "source": [
    "%matplotlib inline\n",
    "import numpy as np\n",
    "import cv2\n",
    "import torch\n",
    "from matplotlib import pyplot as plt\n",
    "\n",
    "from contrastive_loss_test_data.test_data import load_sample_images"
   ]
  },
  {
   "cell_type": "code",
   "execution_count": null,
   "metadata": {},
   "outputs": [],
   "source": [
    "cap = cv2.VideoCapture(\"/media/yannik/samsung_ssd/data/human_3.6m/test/S3/Videos/Directions.60457274.mp4\")\n",
    "fgbg = cv2.createBackgroundSubtractorMOG2()\n",
    "# fgbg = cv2.createBackgroundSubtractorKNN(detectShadows=False, dist2Threshold=0.1)\n",
    "\n",
    "fig, ax = plt.subplots(1, 2, figsize=(15, 5))\n",
    "\n",
    "t = 0\n",
    "while(1):\n",
    "    ret, frame = cap.read()\n",
    "\n",
    "    if t == 0:\n",
    "\n",
    "        fgmask = fgbg.apply(frame)\n",
    "\n",
    "        print(fgmask.mean())\n",
    "        print(fgmask.min())\n",
    "        print(fgmask.max())\n",
    "        ax[0].imshow(fgmask)\n",
    "        ax[1].imshow(frame)\n",
    "        plt.show()\n",
    "     \n",
    "    t += 1\n"
   ]
  },
  {
   "cell_type": "code",
   "execution_count": null,
   "metadata": {},
   "outputs": [],
   "source": [
    "cap = cv2.VideoCapture(\"/media/yannik/samsung_ssd/data/human_3.6m/test/S3/Videos/Directions.60457274.mp4\")\n",
    "\n",
    "kernel = cv2.getStructuringElement(cv2.MORPH_ELLIPSE,(3, 3))\n",
    "fgbg = cv2.bgsegm.createBackgroundSubtractorGMG()\n",
    "\n",
    "fig, ax = plt.subplots(1, 1, figsize=(15, 5))\n",
    "\n",
    "t = 0\n",
    "while(1):\n",
    "    ret, frame = cap.read()\n",
    "\n",
    "    if t == 0:\n",
    "        fgmask = fgbg.apply(frame)\n",
    "        fgmask = cv2.morphologyEx(fgmask, cv2.MORPH_OPEN, kernel)\n",
    "\n",
    "        ax.imshow(fgmask)\n",
    "        break\n",
    "    \n",
    "    t += 1\n",
    "\n",
    "plt.show()"
   ]
  },
  {
   "cell_type": "code",
   "execution_count": null,
   "metadata": {},
   "outputs": [],
   "source": [
    "import numpy as np\n",
    "import cv2\n",
    "import time\n",
    "\n",
    "cap = cv2.VideoCapture(\"/media/yannik/samsung_ssd/data/human_3.6m/test/S3/Videos/Directions.60457274.mp4\")\n",
    "ret, first = cap.read()\n",
    "\n",
    "# Save the first image as reference\n",
    "#first_gray = cv2.cvtColor(first, cv2.COLOR_BGR2GRAY)\n",
    "#first_gray = cv2.GaussianBlur(first_gray, (21, 21), 0)\n",
    "first_gray = first\n",
    "\n",
    "while True:\n",
    "    ret, frame = cap.read()\n",
    "\n",
    "    if not ret:\n",
    "        break\n",
    "\n",
    "    #gray = cv2.cvtColor(frame, cv2.COLOR_BGR2GRAY)\n",
    "    #gray = cv2.GaussianBlur(gray, (21, 21), 0)#\n",
    "    gray = frame\n",
    "\n",
    "    # In each iteration, calculate absolute difference between current frame and reference frame\n",
    "    difference = cv2.absdiff(gray, first_gray)\n",
    "    # difference = gray - first_gray\n",
    "\n",
    "    # Apply thresholding to eliminate noise\n",
    "    thresh = cv2.threshold(difference, 25, 255, cv2.THRESH_BINARY)[1]\n",
    "    thresh = cv2.dilate(thresh, None, iterations=2)\n",
    "\n",
    "    cv2.imshow(\"thresh\", thresh)\n",
    "    key = cv2.waitKey(1) & 0xFF\n",
    "\n",
    "    # if the `q` key is pressed, break from the lop\n",
    "    if key == ord(\"q\"):\n",
    "        break"
   ]
  },
  {
   "cell_type": "code",
   "execution_count": null,
   "metadata": {},
   "outputs": [],
   "source": []
  }
 ],
 "metadata": {
  "kernelspec": {
   "display_name": "vssil",
   "language": "python",
   "name": "vssil"
  },
  "language_info": {
   "codemirror_mode": {
    "name": "ipython",
    "version": 3
   },
   "file_extension": ".py",
   "mimetype": "text/x-python",
   "name": "python",
   "nbconvert_exporter": "python",
   "pygments_lexer": "ipython3",
   "version": "3.8.8"
  }
 },
 "nbformat": 4,
 "nbformat_minor": 2
}
