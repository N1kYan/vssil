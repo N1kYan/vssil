{
 "cells": [
  {
   "cell_type": "code",
   "execution_count": 11,
   "metadata": {},
   "outputs": [],
   "source": [
    "import sys\n",
    "sys.path.insert(1, '/home/yannik/vssil')\n",
    "\n",
    "import torch\n",
    "from torch.nn.functional import interpolate\n",
    "\n",
    "from src.utils.kpt_utils import get_image_patches, kpts_2_img_coordinates\n",
    "from src.losses.kpt_tracking_metric import kpt_tracking_metric\n",
    "from src.losses.kpt_visual_metric import kpt_visual_metric\n",
    "from src.losses.spatial_consistency_loss import spatial_consistency_loss\n",
    "from contrastive_loss_test_data.test_keypoints import get_perfect_keypoints, get_bad_keypoints, get_random_keypoints\n",
    "from contrastive_loss_test_data.test_data import load_sample_images \n",
    "\n",
    "\n",
    "sample_size = 4\n",
    "batch_size = 16\n",
    "patch_size = (7, 7)  # (32, 32)\n",
    "n_bins = 50  # 200\n",
    "p = float('inf')  # 0, 1, 2, float('inf')"
   ]
  },
  {
   "cell_type": "code",
   "execution_count": 12,
   "metadata": {},
   "outputs": [],
   "source": [
    "torch.manual_seed(123)\n",
    "\n",
    "# Load example image frames\n",
    "img_tensor = load_sample_images(sample_size=sample_size,\n",
    "                                path=\"/home/yannik/vssil/contrastive_loss_test_data/990000.mp4\").unsqueeze(0)\n",
    "img_tensor = img_tensor.repeat((batch_size, 1, 1, 1, 1))\n",
    "img_tensor = interpolate(img_tensor, size=(3, 128, 128))\n",
    "N, T, C, H, W = img_tensor.shape"
   ]
  },
  {
   "cell_type": "code",
   "execution_count": 13,
   "metadata": {},
   "outputs": [],
   "source": [
    "# Load example key-points\n",
    "perfect_kpt_coordinates = get_perfect_keypoints(T=sample_size).unsqueeze(0)\n",
    "perfect_kpt_coordinates = perfect_kpt_coordinates.repeat((batch_size, 1, 1, 1))\n",
    "\n",
    "bad_kpt_coordinates = get_bad_keypoints(T=sample_size).unsqueeze(0)\n",
    "bad_kpt_coordinates = bad_kpt_coordinates.repeat((batch_size, 1, 1, 1))\n",
    "\n",
    "random_kpt_coordinates = get_random_keypoints(T=sample_size).unsqueeze(0)\n",
    "random_kpt_coordinates = random_kpt_coordinates.repeat((batch_size, 1, 1, 1))"
   ]
  },
  {
   "cell_type": "code",
   "execution_count": 14,
   "metadata": {},
   "outputs": [
    {
     "name": "stdout",
     "output_type": "stream",
     "text": [
      "tensor(0.0384)\n",
      "tensor(0.0351)\n",
      "tensor(0.0094)\n",
      "\n",
      "tensor(0.1504)\n",
      "tensor(0.1735)\n",
      "tensor(0.7189)\n",
      "\n",
      "tensor(0.1583)\n",
      "tensor(0.1745)\n",
      "tensor(0.1485)\n"
     ]
    }
   ],
   "source": [
    "# Evaluating tracking metric\n",
    "# The lower the result, the less visual difference of image patches around key-points over time\n",
    "M_track_perfect, c, g = kpt_tracking_metric(perfect_kpt_coordinates, img_tensor, patch_size, n_bins, p)\n",
    "M_track_bad, c2, g2 = kpt_tracking_metric(bad_kpt_coordinates, img_tensor, patch_size, n_bins, p)\n",
    "M_track_random, c3, g3 = kpt_tracking_metric(random_kpt_coordinates, img_tensor, patch_size, n_bins, p)\n",
    "print(M_track_perfect)\n",
    "print(M_track_bad)\n",
    "print(M_track_random)\n",
    "print()\n",
    "print(c)\n",
    "print(c2)\n",
    "print(c3)\n",
    "print()\n",
    "print(g)\n",
    "print(g2)\n",
    "print(g3)"
   ]
  },
  {
   "cell_type": "code",
   "execution_count": 15,
   "metadata": {},
   "outputs": [
    {
     "name": "stdout",
     "output_type": "stream",
     "text": [
      "tensor(0.0545)\n",
      "tensor(0.0532)\n",
      "tensor(0.0096)\n",
      "\n",
      "tensor(0.1504)\n",
      "tensor(0.2504)\n",
      "tensor(0.6659)\n",
      "\n",
      "tensor(0.1583)\n",
      "tensor(0.2850)\n",
      "tensor(0.1716)\n"
     ]
    }
   ],
   "source": [
    "# Evaluating visual metric\n",
    "# The higher the result, the higher the visual differences of image patches across key-points\n",
    "M_vis_perfect, c1, g1 = kpt_visual_metric(perfect_kpt_coordinates, img_tensor, patch_size, n_bins, p)\n",
    "M_vis_bad, c2, g2 = kpt_visual_metric(bad_kpt_coordinates, img_tensor, patch_size, n_bins, p)\n",
    "M_vis_random, c3, g3 = kpt_visual_metric(random_kpt_coordinates, img_tensor, patch_size, n_bins, p)\n",
    "print(M_vis_perfect)\n",
    "print(M_vis_bad)\n",
    "print(M_vis_random)\n",
    "print()\n",
    "print(c)\n",
    "print(c2)\n",
    "print(c3)\n",
    "print()\n",
    "print(g)\n",
    "print(g2)\n",
    "print(g3)"
   ]
  },
  {
   "cell_type": "code",
   "execution_count": null,
   "metadata": {},
   "outputs": [],
   "source": []
  }
 ],
 "metadata": {
  "kernelspec": {
   "display_name": "vssil",
   "language": "python",
   "name": "vssil"
  },
  "language_info": {
   "codemirror_mode": {
    "name": "ipython",
    "version": 3
   },
   "file_extension": ".py",
   "mimetype": "text/x-python",
   "name": "python",
   "nbconvert_exporter": "python",
   "pygments_lexer": "ipython3",
   "version": "3.8.8"
  }
 },
 "nbformat": 4,
 "nbformat_minor": 2
}
