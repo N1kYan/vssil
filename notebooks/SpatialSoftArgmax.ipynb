{
 "cells": [
  {
   "cell_type": "code",
   "execution_count": 84,
   "metadata": {},
   "outputs": [],
   "source": [
    "import torch\n",
    "import matplotlib.pyplot as plt\n",
    "\n",
    "from src.models.ulosd_layers import FeatureMapsToKeyPoints, KeyPointsToFeatureMaps\n",
    "\n",
    "fmap2kpt = FeatureMapsToKeyPoints('cpu')\n",
    "kpt2gmap = KeyPointsToFeatureMaps(3.0, W, 'cpu')"
   ]
  },
  {
   "cell_type": "code",
   "execution_count": 120,
   "metadata": {},
   "outputs": [
    {
     "data": {
      "image/png": "[encoded data removed]",
      "text/plain": [
       "<Figure size 1080x360 with 3 Axes>"
      ]
     },
     "metadata": {
      "needs_background": "light"
     },
     "output_type": "display_data"
    }
   ],
   "source": [
    "K = 3\n",
    "W = 16\n",
    "H = 16\n",
    "\n",
    "\n",
    "fmap = torch.rand((1, K, H, W))\n",
    "kpts = fmap2kpt(fmap) + ((torch.rand(1, K, 3) - 0.5)*2.0)\n",
    "fmap = kpt2gmap(kpts)\n",
    "\n",
    "# Distortions\n",
    "fmap[0, 0, ...] -= ((fmap[0, 1, ...] * 0.25) + (fmap[0, 2, ...] * 0.25))\n",
    "fmap[0, 0, :, W-1] = 0.5\n",
    "fmap = torch.softmax(fmap, dim=-2)\n",
    "\n",
    "kpts = fmap2kpt(fmap)\n",
    "\n",
    "fig, ax = plt.subplots(1, K, figsize=(15, 5))\n",
    "for k in range(K):\n",
    "    ax[k].imshow(fmap[0, k, ...], cmap='gray')\n",
    "    w = ((-kpts[0, k, 1] + 1) / 2) * W\n",
    "    h = ((kpts[0, k, 0] + 1) / 2) * H\n",
    "    ax[k].scatter(w, h, s=200, c='lime', marker='^')\n",
    "plt.show()"
   ]
  },
  {
   "cell_type": "code",
   "execution_count": 123,
   "metadata": {},
   "outputs": [
    {
     "data": {
      "image/png": "[encoded data removed]",
      "text/plain": [
       "<Figure size 1080x360 with 3 Axes>"
      ]
     },
     "metadata": {
      "needs_background": "light"
     },
     "output_type": "display_data"
    }
   ],
   "source": [
    "from src.models.transporter_keypointer import TransporterKeypointer\n",
    "\n",
    "config = {\n",
    "    'model': {\n",
    "        'hidden_dim': 32,\n",
    "        'num_img_channels': 3,\n",
    "        'activation': 'LeakyReLU',\n",
    "        'skip_connections': False,\n",
    "        'num_keypoints': 3,\n",
    "        'gaussian_map_std': 1.5\n",
    "    },\n",
    "    'device': 'cpu'\n",
    "}\n",
    "\n",
    "kpter = TransporterKeypointer(config)\n",
    "\n",
    "transporter_kpts, gmaps = kpter.feature_maps_to_keypoints(fmap)\n",
    "\n",
    "fig, ax = plt.subplots(1, K, figsize=(15, 5))\n",
    "for k in range(K):\n",
    "    ax[k].imshow(fmap[0, k, ...], cmap='gray')\n",
    "    w = ((-transporter_kpts[0, k, 1] + 1) / 2) * W\n",
    "    h = ((transporter_kpts[0, k, 0] + 1) / 2) * H\n",
    "    ax[k].scatter(w, h, s=200, c='lime', marker='^')\n",
    "plt.show()"
   ]
  },
  {
   "cell_type": "code",
   "execution_count": null,
   "metadata": {},
   "outputs": [],
   "source": []
  }
 ],
 "metadata": {
  "kernelspec": {
   "display_name": "vssil",
   "language": "python",
   "name": "vssil"
  },
  "language_info": {
   "codemirror_mode": {
    "name": "ipython",
    "version": 3
   },
   "file_extension": ".py",
   "mimetype": "text/x-python",
   "name": "python",
   "nbconvert_exporter": "python",
   "pygments_lexer": "ipython3",
   "version": "3.8.8"
  }
 },
 "nbformat": 4,
 "nbformat_minor": 2
}
