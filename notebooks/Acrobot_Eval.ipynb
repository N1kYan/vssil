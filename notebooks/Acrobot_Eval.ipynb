{
 "cells": [
  {
   "cell_type": "code",
   "execution_count": 13,
   "metadata": {},
   "outputs": [],
   "source": [
    "# Imports etc.\n",
    "import sys\n",
    "sys.path.insert(1, '/home/yannik/vssil')\n",
    "import yaml\n",
    "\n",
    "import matplotlib.pyplot as plt\n",
    "import seaborn as sns\n",
    "import pandas as pd\n",
    "import torch"
   ]
  },
  {
   "cell_type": "code",
   "execution_count": 15,
   "metadata": {},
   "outputs": [],
   "source": [
    "# Load data\n",
    "with open('/home/yannik/vssil/results/transporter_acrobot_metrics.yml', 'r') as stream:\n",
    "    transporter_metric_dict = yaml.load(stream, Loader=yaml.Loader)"
   ]
  },
  {
   "cell_type": "code",
   "execution_count": 14,
   "metadata": {},
   "outputs": [
    {
     "ename": "FileNotFoundError",
     "evalue": "[Errno 2] No such file or directory: '/home/yannik/vssil/results/ulosd_acrobot_metrics.yml'",
     "output_type": "error",
     "traceback": [
      "\u001b[0;31m---------------------------------------------------------------------------\u001b[0m",
      "\u001b[0;31mFileNotFoundError\u001b[0m                         Traceback (most recent call last)",
      "\u001b[0;32m/tmp/ipykernel_32561/3749606764.py\u001b[0m in \u001b[0;36m<module>\u001b[0;34m\u001b[0m\n\u001b[1;32m      3\u001b[0m     \u001b[0mtransporter_metric_dict\u001b[0m \u001b[0;34m=\u001b[0m \u001b[0myaml\u001b[0m\u001b[0;34m.\u001b[0m\u001b[0mload\u001b[0m\u001b[0;34m(\u001b[0m\u001b[0mstream\u001b[0m\u001b[0;34m,\u001b[0m \u001b[0mLoader\u001b[0m\u001b[0;34m=\u001b[0m\u001b[0myaml\u001b[0m\u001b[0;34m.\u001b[0m\u001b[0mLoader\u001b[0m\u001b[0;34m)\u001b[0m\u001b[0;34m\u001b[0m\u001b[0;34m\u001b[0m\u001b[0m\n\u001b[1;32m      4\u001b[0m \u001b[0;34m\u001b[0m\u001b[0m\n\u001b[0;32m----> 5\u001b[0;31m \u001b[0;32mwith\u001b[0m \u001b[0mopen\u001b[0m\u001b[0;34m(\u001b[0m\u001b[0;34m'/home/yannik/vssil/results/ulosd_acrobot_metrics.yml'\u001b[0m\u001b[0;34m,\u001b[0m \u001b[0;34m'r'\u001b[0m\u001b[0;34m)\u001b[0m \u001b[0;32mas\u001b[0m \u001b[0mstream\u001b[0m\u001b[0;34m:\u001b[0m\u001b[0;34m\u001b[0m\u001b[0;34m\u001b[0m\u001b[0m\n\u001b[0m\u001b[1;32m      6\u001b[0m     \u001b[0mulosd_metric_dict\u001b[0m \u001b[0;34m=\u001b[0m \u001b[0myaml\u001b[0m\u001b[0;34m.\u001b[0m\u001b[0mload\u001b[0m\u001b[0;34m(\u001b[0m\u001b[0mstream\u001b[0m\u001b[0;34m,\u001b[0m \u001b[0mLoader\u001b[0m\u001b[0;34m=\u001b[0m\u001b[0myaml\u001b[0m\u001b[0;34m.\u001b[0m\u001b[0mLoader\u001b[0m\u001b[0;34m)\u001b[0m\u001b[0;34m\u001b[0m\u001b[0;34m\u001b[0m\u001b[0m\n",
      "\u001b[0;31mFileNotFoundError\u001b[0m: [Errno 2] No such file or directory: '/home/yannik/vssil/results/ulosd_acrobot_metrics.yml'"
     ]
    }
   ],
   "source": [
    "with open('/home/yannik/vssil/results/ulosd_acrobot_metrics.yml', 'r') as stream:   \n",
    "    ulosd_metric_dict = yaml.load(stream, Loader=yaml.Loader)"
   ]
  },
  {
   "cell_type": "code",
   "execution_count": 16,
   "metadata": {},
   "outputs": [
    {
     "name": "stdout",
     "output_type": "stream",
     "text": [
      "['dist', 'smooth', 'track', 'visual']\n"
     ]
    }
   ],
   "source": [
    "print(list(transporter_metric_dict.keys()))"
   ]
  },
  {
   "cell_type": "code",
   "execution_count": 20,
   "metadata": {},
   "outputs": [],
   "source": [
    "transporter_df = pd.DataFrame(transporter_metric_dict, dtype=float)\n",
    "transporter_df_melted = pd.melt(transporter_df)"
   ]
  },
  {
   "cell_type": "code",
   "execution_count": null,
   "metadata": {},
   "outputs": [],
   "source": [
    "ulosd_df = pd.DataFrame(ulosd_metric_dict, dtype=float)\n",
    "ulosd_df_melted = pd.melt(ulosd_df)"
   ]
  },
  {
   "cell_type": "code",
   "execution_count": null,
   "metadata": {
    "scrolled": true
   },
   "outputs": [],
   "source": [
    "combined_df_melted = pd.concat([transporter_df_melted, ulosd_df_melted], keys=['transporter', 'ulosd'])\n",
    "combined_df_melted.reset_index(level=0, inplace=True)\n",
    "combined_df_melted = combined_df_melted.rename(columns={\"level_0\": \"method\", \"variable\": \"metric\"}, errors=\"raise\")\n",
    "combined_df_melted"
   ]
  },
  {
   "cell_type": "code",
   "execution_count": null,
   "metadata": {},
   "outputs": [],
   "source": [
    "fig, ax = plt.subplots(1, 4, figsize=(25, 5))\n",
    "sns.boxplot(x='method', y='value', data=combined_df_melted[combined_df_melted['metric']=='smooth'], ax=ax[0])\n",
    "ax[0].set_title('Smoothness Metric')\n",
    "sns.boxplot(x='method', y='value', data=combined_df_melted[combined_df_melted['metric']=='dist'], ax=ax[1])\n",
    "ax[1].set_title('Distribution Metric')\n",
    "sns.boxplot(x='method', y='value', data=combined_df_melted[combined_df_melted['metric']=='track'], ax=ax[2])\n",
    "ax[2].set_title('Tracking Metric')\n",
    "sns.boxplot(x='method', y='value', data=combined_df_melted[combined_df_melted['metric']=='visual'], ax=ax[3])\n",
    "ax[3].set_title('Visual Diff. Metric')\n",
    "plt.show()"
   ]
  },
  {
   "cell_type": "code",
   "execution_count": null,
   "metadata": {},
   "outputs": [],
   "source": []
  }
 ],
 "metadata": {
  "kernelspec": {
   "display_name": "vssil",
   "language": "python",
   "name": "vssil"
  },
  "language_info": {
   "codemirror_mode": {
    "name": "ipython",
    "version": 3
   },
   "file_extension": ".py",
   "mimetype": "text/x-python",
   "name": "python",
   "nbconvert_exporter": "python",
   "pygments_lexer": "ipython3",
   "version": "3.8.8"
  }
 },
 "nbformat": 4,
 "nbformat_minor": 2
}
