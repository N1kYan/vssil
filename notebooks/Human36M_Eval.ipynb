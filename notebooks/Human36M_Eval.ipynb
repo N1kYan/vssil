{
 "cells": [
  {
   "cell_type": "code",
   "execution_count": 1,
   "metadata": {},
   "outputs": [],
   "source": [
    "# Imports etc.\n",
    "import sys\n",
    "sys.path.insert(1, '/home/yannik/vssil')\n",
    "import yaml\n",
    "\n",
    "import matplotlib.pyplot as plt\n",
    "import seaborn as sns\n",
    "import pandas as pd\n",
    "import torch"
   ]
  },
  {
   "cell_type": "code",
   "execution_count": 2,
   "metadata": {},
   "outputs": [],
   "source": [
    "# Load data\n",
    "with open('/home/yannik/vssil/results/transporter_human36m_metrics.yml', 'r') as stream:\n",
    "    transporter_metric_dict = yaml.load(stream, Loader=yaml.Loader)\n",
    "\n",
    "with open('/home/yannik/vssil/results/ulosd_human36m_metrics.yml', 'r') as stream:   \n",
    "    ulosd_metric_dict = yaml.load(stream, Loader=yaml.Loader)"
   ]
  },
  {
   "cell_type": "code",
   "execution_count": 3,
   "metadata": {},
   "outputs": [
    {
     "name": "stdout",
     "output_type": "stream",
     "text": [
      "['dist', 'smooth', 'track', 'visual']\n"
     ]
    }
   ],
   "source": [
    "print(list(transporter_metric_dict.keys()))"
   ]
  },
  {
   "cell_type": "code",
   "execution_count": 4,
   "metadata": {},
   "outputs": [],
   "source": [
    "transporter_df = pd.DataFrame(transporter_metric_dict, dtype=float)\n",
    "ulosd_df = pd.DataFrame(ulosd_metric_dict, dtype=float)\n",
    "transporter_df_melted = pd.melt(transporter_df)\n",
    "ulosd_df_melted = pd.melt(ulosd_df)\n",
    "combined_df_melted = pd.concat([transporter_df_melted, ulosd_df_melted], keys=['transporter', 'ulosd'])"
   ]
  },
  {
   "cell_type": "code",
   "execution_count": 5,
   "metadata": {
    "scrolled": true
   },
   "outputs": [
    {
     "data": {
      "text/html": [
       "<div>\n",
       "<style scoped>\n",
       "    .dataframe tbody tr th:only-of-type {\n",
       "        vertical-align: middle;\n",
       "    }\n",
       "\n",
       "    .dataframe tbody tr th {\n",
       "        vertical-align: top;\n",
       "    }\n",
       "\n",
       "    .dataframe thead th {\n",
       "        text-align: right;\n",
       "    }\n",
       "</style>\n",
       "<table border=\"1\" class=\"dataframe\">\n",
       "  <thead>\n",
       "    <tr style=\"text-align: right;\">\n",
       "      <th></th>\n",
       "      <th>method</th>\n",
       "      <th>metric</th>\n",
       "      <th>value</th>\n",
       "    </tr>\n",
       "  </thead>\n",
       "  <tbody>\n",
       "    <tr>\n",
       "      <th>0</th>\n",
       "      <td>transporter</td>\n",
       "      <td>dist</td>\n",
       "      <td>0.135920</td>\n",
       "    </tr>\n",
       "    <tr>\n",
       "      <th>1</th>\n",
       "      <td>transporter</td>\n",
       "      <td>dist</td>\n",
       "      <td>0.132927</td>\n",
       "    </tr>\n",
       "    <tr>\n",
       "      <th>2</th>\n",
       "      <td>transporter</td>\n",
       "      <td>dist</td>\n",
       "      <td>0.136056</td>\n",
       "    </tr>\n",
       "    <tr>\n",
       "      <th>3</th>\n",
       "      <td>transporter</td>\n",
       "      <td>dist</td>\n",
       "      <td>0.128133</td>\n",
       "    </tr>\n",
       "    <tr>\n",
       "      <th>4</th>\n",
       "      <td>transporter</td>\n",
       "      <td>dist</td>\n",
       "      <td>0.131827</td>\n",
       "    </tr>\n",
       "    <tr>\n",
       "      <th>...</th>\n",
       "      <td>...</td>\n",
       "      <td>...</td>\n",
       "      <td>...</td>\n",
       "    </tr>\n",
       "    <tr>\n",
       "      <th>495</th>\n",
       "      <td>ulosd</td>\n",
       "      <td>visual</td>\n",
       "      <td>0.098266</td>\n",
       "    </tr>\n",
       "    <tr>\n",
       "      <th>496</th>\n",
       "      <td>ulosd</td>\n",
       "      <td>visual</td>\n",
       "      <td>0.056194</td>\n",
       "    </tr>\n",
       "    <tr>\n",
       "      <th>497</th>\n",
       "      <td>ulosd</td>\n",
       "      <td>visual</td>\n",
       "      <td>0.028021</td>\n",
       "    </tr>\n",
       "    <tr>\n",
       "      <th>498</th>\n",
       "      <td>ulosd</td>\n",
       "      <td>visual</td>\n",
       "      <td>0.040006</td>\n",
       "    </tr>\n",
       "    <tr>\n",
       "      <th>499</th>\n",
       "      <td>ulosd</td>\n",
       "      <td>visual</td>\n",
       "      <td>0.041111</td>\n",
       "    </tr>\n",
       "  </tbody>\n",
       "</table>\n",
       "<p>1000 rows × 3 columns</p>\n",
       "</div>"
      ],
      "text/plain": [
       "          method  metric     value\n",
       "0    transporter    dist  0.135920\n",
       "1    transporter    dist  0.132927\n",
       "2    transporter    dist  0.136056\n",
       "3    transporter    dist  0.128133\n",
       "4    transporter    dist  0.131827\n",
       "..           ...     ...       ...\n",
       "495        ulosd  visual  0.098266\n",
       "496        ulosd  visual  0.056194\n",
       "497        ulosd  visual  0.028021\n",
       "498        ulosd  visual  0.040006\n",
       "499        ulosd  visual  0.041111\n",
       "\n",
       "[1000 rows x 3 columns]"
      ]
     },
     "execution_count": 5,
     "metadata": {},
     "output_type": "execute_result"
    }
   ],
   "source": [
    "combined_df_melted.reset_index(level=0, inplace=True)\n",
    "combined_df_melted = combined_df_melted.rename(columns={\"level_0\": \"method\", \"variable\": \"metric\"}, errors=\"raise\")\n",
    "combined_df_melted"
   ]
  },
  {
   "cell_type": "code",
   "execution_count": 6,
   "metadata": {},
   "outputs": [
    {
     "data": {
      "image/png": "[encoded data removed]",
      "text/plain": [
       "<Figure size 1800x360 with 4 Axes>"
      ]
     },
     "metadata": {
      "needs_background": "light"
     },
     "output_type": "display_data"
    }
   ],
   "source": [
    "fig, ax = plt.subplots(1, 4, figsize=(25, 5))\n",
    "sns.boxplot(x='method', y='value', data=combined_df_melted[combined_df_melted['metric']=='smooth'], ax=ax[0])\n",
    "ax[0].set_title('Smoothness Metric')\n",
    "sns.boxplot(x='method', y='value', data=combined_df_melted[combined_df_melted['metric']=='dist'], ax=ax[1])\n",
    "ax[1].set_title('Distribution Metric')\n",
    "sns.boxplot(x='method', y='value', data=combined_df_melted[combined_df_melted['metric']=='track'], ax=ax[2])\n",
    "ax[2].set_title('Tracking Metric')\n",
    "sns.boxplot(x='method', y='value', data=combined_df_melted[combined_df_melted['metric']=='visual'], ax=ax[3])\n",
    "ax[3].set_title('Visual Diff. Metric')\n",
    "plt.show()"
   ]
  },
  {
   "cell_type": "code",
   "execution_count": null,
   "metadata": {},
   "outputs": [],
   "source": []
  }
 ],
 "metadata": {
  "kernelspec": {
   "display_name": "vssil",
   "language": "python",
   "name": "vssil"
  },
  "language_info": {
   "codemirror_mode": {
    "name": "ipython",
    "version": 3
   },
   "file_extension": ".py",
   "mimetype": "text/x-python",
   "name": "python",
   "nbconvert_exporter": "python",
   "pygments_lexer": "ipython3",
   "version": "3.8.8"
  }
 },
 "nbformat": 4,
 "nbformat_minor": 2
}
